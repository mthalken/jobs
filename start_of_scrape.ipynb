{
 "cells": [
  {
   "cell_type": "code",
   "execution_count": 1,
   "id": "35f69e6b",
   "metadata": {},
   "outputs": [],
   "source": [
    "import pandas as pd\n",
    "import requests\n",
    "from bs4 import BeautifulSoup as bs\n",
    "from splinter import Browser\n",
    "from webdriver_manager.chrome import ChromeDriverManager\n",
    "from selenium import webdriver\n",
    "import selenium\n",
    "from selenium.webdriver.support.ui import WebDriverWait\n",
    "import os\n",
    "import urllib"
   ]
  },
  {
   "cell_type": "code",
   "execution_count": 2,
   "id": "4e677c3f",
   "metadata": {},
   "outputs": [],
   "source": [
    "def find_jobs(website, job_title, location, desired_char, filename = 'results.xls'):\n",
    "    \n",
    "    if website == 'Indeed':\n",
    "        job_soup = load_indeed_jobs_div(job_title, location)\n",
    "        jobs_list, num_listings = extracted_info_indeed(job_soup, desired_char)\n",
    "        \n",
    "    # add other job boards\n",
    "    \n",
    "    save_jobs(jobs_list, filename)"
   ]
  },
  {
   "cell_type": "code",
   "execution_count": 3,
   "id": "9c30acf7",
   "metadata": {},
   "outputs": [],
   "source": [
    "def save_jobs(jobs_list, filename):\n",
    "    jobs = pd.DataFrame(jobs_list)\n",
    "    jobs.to_excel(filename)"
   ]
  },
  {
   "cell_type": "code",
   "execution_count": 4,
   "id": "758ae260",
   "metadata": {},
   "outputs": [],
   "source": [
    "# create function to search indeed\n",
    "def load_indeed_jobs_div(job_title, location):\n",
    "    getVars = {'q': job_title, 'l': location, 'fromage': 'last', 'sort': 'date'}\n",
    "    url = ('https://www.indeed.com/jobs?' + urllib.parse.urlencode(getVars))\n",
    "    page = requests.get(url)\n",
    "    soup = bs(page.content, 'html.parser')\n",
    "    job_soup = soup.find(id = 'resultsCol')\n",
    "    return job_soup"
   ]
  },
  {
   "cell_type": "code",
   "execution_count": 5,
   "id": "3a03270b",
   "metadata": {},
   "outputs": [],
   "source": [
    "def extracted_info_indeed(job_soup, desired_char):\n",
    "    job_elems = job_soup.find_all('div', class_ = 'SerpJobCard')\n",
    "    \n",
    "    cols = []\n",
    "    extracted_info = []\n",
    "\n",
    "    if 'titles' in desired_char:\n",
    "        titles = []\n",
    "        cols.append('titles')\n",
    "        for job_elem in job_elems:\n",
    "            titles.append(job_title_indeed(job_elem))\n",
    "        extracted_info.append(titles)\n",
    "\n",
    "    if 'companies' in desired_char:\n",
    "        companies = []\n",
    "        cols.append('companies')\n",
    "        for job_elem in job_elems:\n",
    "            companies.append(company_indeed(job_elem))\n",
    "        extracted_info.append(companies)\n",
    "\n",
    "    if 'link' in desired_char:\n",
    "        links = []\n",
    "        cols.append('links')\n",
    "        for job_elem in job_elems:\n",
    "            links.append(link_indeed(job_elem))\n",
    "        extracted_info.append(links)\n",
    "\n",
    "    if 'date_listed' in desired_char:\n",
    "        dates = []\n",
    "        cols.append('dates')\n",
    "        for job_elem in job_elems:\n",
    "            dates.append(date_indeed(job_elem))\n",
    "        extracted_info.append(dates)\n",
    "        \n",
    "    jobs_list = {}\n",
    "\n",
    "    for j in range(len(cols)):\n",
    "        jobs_list[cols[j]] = extracted_info[j]\n",
    "\n",
    "    num_listings = len(extracted_info[0])\n",
    "    \n",
    "    return jobs_list, num_listings\n",
    "    print('{} new job postings retrieved. Stored in {}.'.format(num_listings, filename))"
   ]
  },
  {
   "cell_type": "code",
   "execution_count": 6,
   "id": "a0d7b2f6",
   "metadata": {},
   "outputs": [],
   "source": [
    "def job_title_indeed(job_elem):\n",
    "    title_elem = job_elem.find('h2', class_ = 'title')\n",
    "    title = title_elem.text.strip()\n",
    "    return title\n",
    "\n",
    "def company_indeed(job_elem):\n",
    "    company_elem = job_elem.find('span', class_ = 'company')\n",
    "    company = company_elem.text.strip()\n",
    "    return company\n",
    "\n",
    "def link_indeed(job_elem):\n",
    "    link = job_elem.find('a')['href']\n",
    "    link = 'www.indeed.com/' + link\n",
    "    return link\n",
    "\n",
    "def date_indeed(job_elem):\n",
    "    date_elem = job_elem.find('span', class_ = 'date')\n",
    "    date = date_elem.text.strip()\n",
    "    return date"
   ]
  }
 ],
 "metadata": {
  "kernelspec": {
   "display_name": "mlenv",
   "language": "python",
   "name": "mlenv"
  },
  "language_info": {
   "codemirror_mode": {
    "name": "ipython",
    "version": 3
   },
   "file_extension": ".py",
   "mimetype": "text/x-python",
   "name": "python",
   "nbconvert_exporter": "python",
   "pygments_lexer": "ipython3",
   "version": "3.7.11"
  }
 },
 "nbformat": 4,
 "nbformat_minor": 5
}
