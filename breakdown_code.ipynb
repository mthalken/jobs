{
 "cells": [
  {
   "cell_type": "code",
   "execution_count": 1,
   "metadata": {},
   "outputs": [],
   "source": [
    "# Dependencies\n",
    "import requests\n",
    "from bs4 import BeautifulSoup as bs\n",
    "import pandas as pd\n",
    "import time"
   ]
  },
  {
   "cell_type": "code",
   "execution_count": 47,
   "metadata": {},
   "outputs": [
    {
     "ename": "TypeError",
     "evalue": "__init__() got multiple values for argument 'columns'",
     "output_type": "error",
     "traceback": [
      "\u001b[1;31m---------------------------------------------------------------------------\u001b[0m",
      "\u001b[1;31mTypeError\u001b[0m                                 Traceback (most recent call last)",
      "\u001b[1;32m<ipython-input-47-a4a6c65f351a>\u001b[0m in \u001b[0;36m<module>\u001b[1;34m\u001b[0m\n\u001b[0;32m     82\u001b[0m \u001b[1;33m\u001b[0m\u001b[0m\n\u001b[0;32m     83\u001b[0m \u001b[1;31m# def save_jobs(title, company, link):\u001b[0m\u001b[1;33m\u001b[0m\u001b[1;33m\u001b[0m\u001b[1;33m\u001b[0m\u001b[0m\n\u001b[1;32m---> 84\u001b[1;33m \u001b[0mjobs\u001b[0m \u001b[1;33m=\u001b[0m \u001b[0mpd\u001b[0m\u001b[1;33m.\u001b[0m\u001b[0mDataFrame\u001b[0m\u001b[1;33m(\u001b[0m\u001b[0mfind_job\u001b[0m\u001b[1;33m(\u001b[0m\u001b[0mmake_indeed_url\u001b[0m\u001b[1;33m(\u001b[0m\u001b[1;34m'data analyst'\u001b[0m\u001b[1;33m,\u001b[0m \u001b[1;34m'remote'\u001b[0m\u001b[1;33m)\u001b[0m\u001b[1;33m)\u001b[0m\u001b[1;33m,\u001b[0m \u001b[0mfind_company_name\u001b[0m\u001b[1;33m(\u001b[0m\u001b[0mmake_indeed_url\u001b[0m\u001b[1;33m(\u001b[0m\u001b[1;34m'data analyst'\u001b[0m\u001b[1;33m,\u001b[0m \u001b[1;34m'remote'\u001b[0m\u001b[1;33m)\u001b[0m\u001b[1;33m)\u001b[0m\u001b[1;33m,\u001b[0m \u001b[0mextract_links\u001b[0m\u001b[1;33m(\u001b[0m\u001b[0mmake_indeed_url\u001b[0m\u001b[1;33m(\u001b[0m\u001b[1;34m'data analyst'\u001b[0m\u001b[1;33m,\u001b[0m \u001b[1;34m'remote'\u001b[0m\u001b[1;33m)\u001b[0m\u001b[1;33m)\u001b[0m\u001b[1;33m,\u001b[0m \u001b[0mcolumns\u001b[0m\u001b[1;33m=\u001b[0m\u001b[1;33m[\u001b[0m\u001b[1;34m'Job'\u001b[0m\u001b[1;33m,\u001b[0m \u001b[1;34m'Company'\u001b[0m\u001b[1;33m,\u001b[0m \u001b[1;34m'Link'\u001b[0m\u001b[1;33m]\u001b[0m\u001b[1;33m)\u001b[0m\u001b[1;33m\u001b[0m\u001b[1;33m\u001b[0m\u001b[0m\n\u001b[0m\u001b[0;32m     85\u001b[0m \u001b[1;33m\u001b[0m\u001b[0m\n\u001b[0;32m     86\u001b[0m \u001b[0mjobs\u001b[0m\u001b[1;33m\u001b[0m\u001b[1;33m\u001b[0m\u001b[0m\n",
      "\u001b[1;31mTypeError\u001b[0m: __init__() got multiple values for argument 'columns'"
     ]
    }
   ],
   "source": [
    "# Create indeed url\n",
    "def make_indeed_url(search_job, search_location):\n",
    "    job = search_job.replace(' ', '%20')\n",
    "    location = search_location.replace(' ', '%2C').replace(' ', '%20')\n",
    "    indeed_url ='https://www.indeed.com/jobs?'\n",
    "    url = indeed_url+'q='+job+'&l='+location\n",
    "    page = requests.get(url)\n",
    "    soup = bs(page.text, 'html.parser')\n",
    "    # print(url)\n",
    "    return(soup)\n",
    "    \n",
    "#test indeed url\n",
    "# print(make_indeed_url('data analyst', 'remote'))\n",
    "\n",
    "# Find job title\n",
    "def find_job(soup):\n",
    "    job_titles = []\n",
    "    for div in soup.find_all('h2', {'class':'jobTitle'}):\n",
    "        # job_titles.append(div)\n",
    "        for a in div.find_all('a'):\n",
    "            for span in a.find_all('span'):\n",
    "                job_titles.append(span.text)\n",
    "            # for span in a.find_all('title'):\n",
    "            #     job_titles.append(span)\n",
    "    return(job_titles)\n",
    "\n",
    "# Test find_jobs\n",
    "# print(find_job(make_indeed_url('data analyst', 'remote')))\n",
    "\n",
    "\n",
    "# # Find url link\n",
    "def extract_links(soup):\n",
    "    links = []\n",
    "    for div in soup.find_all('h2', {'class':'jobTitle'}):\n",
    "        # links.append(div)\n",
    "        for a in div.find_all('a'):\n",
    "            links.append(a['href'])\n",
    "    return(links)\n",
    "\n",
    "# Check url job links\n",
    "# print(extract_links(make_indeed_url('data analyst', 'remote')))\n",
    "\n",
    "\n",
    "# def job_pages_url(make_indeed_url, links):\n",
    "#     for link in links:\n",
    "#         job = search_job.replace(' ', '%20')\n",
    "#         location = search_location.replace(' ', '%2C').replace(' ', '%20')\n",
    "#         indeed_url ='https://www.indeed.com/jobs?'\n",
    "#         url = indeed_url+'q='+job+'&l='+location+'&tk='+link\n",
    "#         page = requests.get(url)\n",
    "#         soup = bs(page.text, 'html.parser')\n",
    "#         return(soup)\n",
    "\n",
    "# print(job_pages_url((make_indeed_url('data analyst', 'remote')), extract_links))\n",
    "\n",
    "\n",
    "# # Find job title\n",
    "# def find_job(soup):\n",
    "#     job_titles = []\n",
    "#     for div in soup.find_all('h2', {'class':'jobTitle'}):\n",
    "#         # job_titles.append(div)\n",
    "#         for a in div.find_all('a'):\n",
    "#             for span in a.find_all('span'):\n",
    "#                 job_titles.append(span.text)\n",
    "#             # for span in a.find_all('title'):\n",
    "#             #     job_titles.append(span)\n",
    "#     return(job_titles)\n",
    "\n",
    "# Find company name\n",
    "def find_company_name(soup):\n",
    "    company_names = []\n",
    "    for span in soup.find_all('span', attrs={'class':'companyName'}):\n",
    "        company_names.append(span.text)\n",
    "    return company_names\n",
    "\n",
    "# Test find_jobs\n",
    "# print(find_company_name(make_indeed_url('data analyst', 'remote')))\n",
    "\n",
    "\n",
    "# def job_description(job_desc):\n",
    "#     page = \n",
    "\n",
    "# def save_jobs(title, company, link):\n",
    "jobs = pd.DataFrame(find_job(make_indeed_url('data analyst', 'remote')), find_company_name(make_indeed_url('data analyst', 'remote')), extract_links(make_indeed_url('data analyst', 'remote')), columns=['Job', 'Company', 'Link'])\n",
    "\n",
    "jobs"
   ]
  },
  {
   "cell_type": "code",
   "execution_count": null,
   "metadata": {},
   "outputs": [],
   "source": []
  }
 ],
 "metadata": {
  "kernelspec": {
   "display_name": "Python 3.7.10 ('PythonData')",
   "language": "python",
   "name": "python3"
  },
  "language_info": {
   "codemirror_mode": {
    "name": "ipython",
    "version": 3
   },
   "file_extension": ".py",
   "mimetype": "text/x-python",
   "name": "python",
   "nbconvert_exporter": "python",
   "pygments_lexer": "ipython3",
   "version": "3.7.10"
  },
  "orig_nbformat": 4,
  "vscode": {
   "interpreter": {
    "hash": "8bc62e48caa63d620769e289da6edf26afabb1c7c1a9e17803d0421c450451fd"
   }
  }
 },
 "nbformat": 4,
 "nbformat_minor": 2
}
