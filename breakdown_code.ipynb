{
 "cells": [
  {
   "cell_type": "code",
   "execution_count": 1,
   "metadata": {},
   "outputs": [],
   "source": [
    "# Dependencies\n",
    "import requests\n",
    "from bs4 import BeautifulSoup as bs\n",
    "import pandas as pd\n",
    "import time"
   ]
  },
  {
   "cell_type": "code",
   "execution_count": 19,
   "metadata": {},
   "outputs": [
    {
     "name": "stdout",
     "output_type": "stream",
     "text": [
      "['new', 'Staff Cybersecurity Analyst (Remote)', 'Business/Data Analyst (Entry Level)', 'Data Analyst', 'new', 'Junior Data Analyst', 'new', 'Data Analyst', 'Data Analyst', 'Entry Level Data Analyst (Part-time)', 'Remote Data Manipulation Analyst', 'Entry level Data Analyst', 'new', 'Data Analyst', 'Data Analyst', 'Business Data Analyst', 'Recruiting Data Analyst', 'new', 'Data Analyst', 'Data Analyst']\n"
     ]
    }
   ],
   "source": [
    "# Create indeed url\n",
    "def make_indeed_url(search_job, search_location):\n",
    "    job = search_job.replace(' ', '%20')\n",
    "    location = search_location.replace(' ', '%2C').replace(' ', '%20')\n",
    "    indeed_url ='https://www.indeed.com/jobs?'\n",
    "    url = indeed_url+'q='+job+'&l='+location\n",
    "    page = requests.get(url)\n",
    "    soup = bs(page.text, 'html.parser')\n",
    "    return(soup)\n",
    "\n",
    "#test indeed url\n",
    "# print(make_indeed_url('data analyst', 'remote'))\n",
    "\n",
    "# Find job title\n",
    "def find_job(soup):\n",
    "    job_titles = []\n",
    "    for div in soup.find_all('h2', {'class':'jobTitle'}):\n",
    "        # job_titles.append(div)\n",
    "        for span in div.find_all('span'):\n",
    "            job_titles.append(span.text)\n",
    "            # for span in a.find_all('title'):\n",
    "            #     job_titles.append(span)\n",
    "\n",
    "    # job_title = soup.find_all('h2', class_='jobTitle').get_text().lstrip('new\\n')\n",
    "\n",
    "    return(job_titles)\n",
    "\n",
    "print(find_job(make_indeed_url('data analyst', 'remote')))\n",
    "\n",
    "\n",
    "# # Find url link\n",
    "def extract_links(soup):\n",
    "    links = []\n",
    "    for div in soup.find_all('h2', {'class':'jobTitle'}):\n",
    "        # links.append(div)\n",
    "        for a in div.find_all('a'):\n",
    "            links.append(a['href'])\n",
    "    return(links)\n",
    "\n",
    "# Check url job links\n",
    "# print(extract_links(make_indeed_url('data analyst', 'remote')))\n",
    "\n",
    "\n",
    "# def job_pages_url(make_indeed_url, links):\n",
    "#     for link in links:\n",
    "#         job = search_job.replace(' ', '%20')\n",
    "#         location = search_location.replace(' ', '%2C').replace(' ', '%20')\n",
    "#         indeed_url ='https://www.indeed.com/jobs?'\n",
    "#         url = indeed_url+'q='+job+'&l='+location+'&tk='+link\n",
    "#         page = requests.get(url)\n",
    "#         soup = bs(page.text, 'html.parser')\n",
    "#         return(soup)\n",
    "\n",
    "# print(job_pages_url((make_indeed_url('data analyst', 'remote')), extract_links))\n",
    "\n"
   ]
  },
  {
   "cell_type": "code",
   "execution_count": null,
   "metadata": {},
   "outputs": [],
   "source": [
    "# Find url link\n",
    "def extract_links(soup):\n",
    "    links = []\n",
    "    for div in soup.find_all('h2', {'class':'jobTitle'}).get_text().lstrip('new\\n'):\n",
    "        for a in div.find_all(name='a', attrs={'href'}).get_text().lstrip('new\\n'):\n",
    "            links.append(a['href'])\n",
    "    return(links)\n",
    "\n",
    "a = extract_links(make_indeed_url('data analyst', 'remote'))\n",
    "print(a.prettify())\n"
   ]
  },
  {
   "cell_type": "code",
   "execution_count": 6,
   "metadata": {},
   "outputs": [],
   "source": [
    "# Find job card\n",
    "# def scrape_job_card(soup):\n"
   ]
  },
  {
   "cell_type": "code",
   "execution_count": 7,
   "metadata": {},
   "outputs": [
    {
     "ename": "SyntaxError",
     "evalue": "invalid syntax (<ipython-input-7-242fbfdc6a4a>, line 4)",
     "output_type": "error",
     "traceback": [
      "\u001b[1;36m  File \u001b[1;32m\"<ipython-input-7-242fbfdc6a4a>\"\u001b[1;36m, line \u001b[1;32m4\u001b[0m\n\u001b[1;33m    for a in div.find_all('a', attrs={data})\u001b[0m\n\u001b[1;37m                                            ^\u001b[0m\n\u001b[1;31mSyntaxError\u001b[0m\u001b[1;31m:\u001b[0m invalid syntax\n"
     ]
    }
   ],
   "source": [
    "# Find job title\n",
    "def find_job(soup):\n",
    "    jobs = []\n",
    "    for div in soup.find_all('h2', class_='jobTitle'):\n",
    "        for a in div.find_all('a', attrs={data}):\n",
    "\n",
    "\n",
    "    # job_title = soup.find_all('h2', class_='jobTitle').get_text().lstrip('new\\n')\n",
    "     \n",
    "    return(job_title)\n",
    "\n",
    "find_job(make_indeed_url('data analyst', 'remote'))"
   ]
  },
  {
   "cell_type": "code",
   "execution_count": null,
   "metadata": {},
   "outputs": [],
   "source": [
    "# Find location"
   ]
  },
  {
   "cell_type": "code",
   "execution_count": null,
   "metadata": {},
   "outputs": [],
   "source": [
    "# Find salary"
   ]
  },
  {
   "cell_type": "code",
   "execution_count": null,
   "metadata": {},
   "outputs": [],
   "source": [
    "# Find Company Name"
   ]
  },
  {
   "cell_type": "code",
   "execution_count": 13,
   "metadata": {},
   "outputs": [],
   "source": [
    "# Find job summary"
   ]
  },
  {
   "cell_type": "code",
   "execution_count": null,
   "metadata": {},
   "outputs": [],
   "source": []
  }
 ],
 "metadata": {
  "kernelspec": {
   "display_name": "Python 3.7.10 ('PythonData')",
   "language": "python",
   "name": "python3"
  },
  "language_info": {
   "codemirror_mode": {
    "name": "ipython",
    "version": 3
   },
   "file_extension": ".py",
   "mimetype": "text/x-python",
   "name": "python",
   "nbconvert_exporter": "python",
   "pygments_lexer": "ipython3",
   "version": "3.7.10"
  },
  "orig_nbformat": 4,
  "vscode": {
   "interpreter": {
    "hash": "8bc62e48caa63d620769e289da6edf26afabb1c7c1a9e17803d0421c450451fd"
   }
  }
 },
 "nbformat": 4,
 "nbformat_minor": 2
}
