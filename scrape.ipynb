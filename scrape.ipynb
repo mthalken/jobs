{
 "cells": [
  {
   "cell_type": "code",
   "execution_count": 8,
   "id": "14a358e5",
   "metadata": {},
   "outputs": [],
   "source": [
    "import scraping\n",
    "from scraping import find_jobs\n",
    "\n",
    "desired_char = ['titles', 'companies', 'links', 'date_listed']\n",
    "\n",
    "find_jobs('Indeed', 'data analyst', 'remote', desired_char)"
   ]
  }
 ],
 "metadata": {
  "kernelspec": {
   "display_name": "mlenv",
   "language": "python",
   "name": "mlenv"
  },
  "language_info": {
   "codemirror_mode": {
    "name": "ipython",
    "version": 3
   },
   "file_extension": ".py",
   "mimetype": "text/x-python",
   "name": "python",
   "nbconvert_exporter": "python",
   "pygments_lexer": "ipython3",
   "version": "3.7.11"
  }
 },
 "nbformat": 4,
 "nbformat_minor": 5
}
