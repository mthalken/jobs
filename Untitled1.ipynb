{
 "cells": [
  {
   "cell_type": "code",
   "execution_count": 2,
   "id": "a4e3de01",
   "metadata": {},
   "outputs": [
    {
     "name": "stdout",
     "output_type": "stream",
     "text": [
      "[<h2 class=\"jobTitle jobTitle-color-purple jobTitle-newJob\" tabindex=\"-1\"><div class=\"new topLeft holisticNewBlue desktop\"><span class=\"label\">new</span></div><a aria-label=\"full details of Data Analyst\" class=\"jcs-JobTitle\" data-ci=\"369106134\" data-empn=\"1302227004764138\" data-hide-spinner=\"true\" data-hiring-event=\"false\" data-jk=\"76f6c34b193ab53a\" data-mobtk=\"1g5pu9tnr22na001\" href=\"/pagead/clk?mo=r&amp;ad=-6NYlbfkN0AiRrwN5v2nTfGVepNxwyITavucPrGSxB-o-J0jBnubG0jIx8kvHKMkuI2NteWGOTMZvls9rJw3Rg0nNfZ5qPhOL_l4I56fW17p5N30dEWlTE7PIalChr7beNdSVVCXh11cuK-lmt9BaEZbLClItx5bSvD_Ko0Y6gpAINciU3eeUnCZf-fTpOJcsexMYAcGnZrH1ggsjzNPhece6fT9e62gRFNmY0y3xntMBAtcX_7OqOo9ouSArQ43xAPLNrWJXkIXEz6j0_bigb6k0LuQWHUnrCuZ9KAz68ip75Mq-Pl2_Jd4j-VI0Ci8iQT5MFYJu4lwqgQjgrCaWTjlco-y5qTiVRw4Pmea3XwIbpx6XTjfWO3n0IH-mvEwWi0t52KE4ABRwPBG3gnSqSoh08LiOpco5u5vXahTUJHMNbxHjOWR7IzGk7ZBjjZHNezKi0p8NKSM4gUXmW4bW9HPKoCevUuCg0PJYKaCxjfZbJEy_WS_iRjo_oZSupL5&amp;p=0&amp;fvj=1&amp;vjs=3\" id=\"sj_76f6c34b193ab53a\" role=\"button\" target=\"_blank\"><span id=\"jobTitle-76f6c34b193ab53a\" title=\"Data Analyst\">Data Analyst</span></a></h2>,\n",
      " <h2 class=\"jobTitle jobTitle-color-purple jobTitle-newJob\" tabindex=\"-1\"><div class=\"new topLeft holisticNewBlue desktop\"><span class=\"label\">new</span></div><a aria-label=\"full details of Data Analyst\" class=\"jcs-JobTitle\" data-hide-spinner=\"true\" data-hiring-event=\"false\" data-jk=\"10c8e48c2de7615d\" data-mobtk=\"1g5pu9tnr22na001\" href=\"/company/Gozio/jobs/Data-Analyst-10c8e48c2de7615d?fccid=e04915127866e309&amp;vjs=3\" id=\"job_10c8e48c2de7615d\" role=\"button\" target=\"_blank\"><span id=\"jobTitle-10c8e48c2de7615d\" title=\"Data Analyst\">Data Analyst</span></a></h2>,\n",
      " <h2 class=\"jobTitle jobTitle-color-purple jobTitle-newJob\" tabindex=\"-1\"><div class=\"new topLeft holisticNewBlue desktop\"><span class=\"label\">new</span></div><a aria-label=\"full details of eCommerce Business Analyst, Retail\" class=\"jcs-JobTitle\" data-ci=\"392313429\" data-empn=\"1070146907333059\" data-hide-spinner=\"true\" data-hiring-event=\"false\" data-jk=\"708492b8a5432cdb\" data-mobtk=\"1g5pu9tnr22na001\" href=\"/pagead/clk?mo=r&amp;ad=-6NYlbfkN0BMF54E1ITmdICHH1bbg10J9-4hullH74ARTpMMzVY0SNH838pXZ7dOuGuDTb9kBsQV3WRo2Ldi82Bnx3vVBv4okOO5hGuMcFor7mhiKazt2UcuNVmLl3sW_ho0PxE2SC7jBq3mpcsrlwaCKKrGgy9nIJk97rRvCj6LIZwaN2MjMzbuKoNqeZ_jwpfUeZO1at7w1lPL7f4aS7VodfmIy1_9Py5PE8pK2kgD6M09ae8fXBRHIqwERfOp4KM8jEGJjMn4Mzmxhm4JXCtxWPhKS21Zp89eI_JUhfr-t81DsolEspjApyw20Ul4kqpAuA96tm5Rny6L-SJ0uKwSP2r3hE4O20f0Gp83HBVeRorECtv33zBUtrz1HbEPGosME0Sy8ymJaBA04CfzbaCngasqLuv3DQGh1z5A4VA1_m4mlhilFTDmnACoSb-MQUNW02kdNRHpyHXUfUIyhB4bp_D6tAEMVvCTBWQ4d7ukALa5LajC4tzb9xdodW1y&amp;p=2&amp;fvj=1&amp;vjs=3\" id=\"sj_708492b8a5432cdb\" role=\"button\" target=\"_blank\"><span id=\"jobTitle-708492b8a5432cdb\" title=\"eCommerce Business Analyst, Retail\">eCommerce Business Analyst, Retail</span></a></h2>,\n",
      " <h2 class=\"jobTitle jobTitle-color-purple jobTitle-newJob\" tabindex=\"-1\"><div class=\"new topLeft holisticNewBlue desktop\"><span class=\"label\">new</span></div><a aria-label=\"full details of Senior Data Analyst (Fully Remote)\" class=\"jcs-JobTitle\" data-hide-spinner=\"true\" data-hiring-event=\"false\" data-jk=\"916f8053921432cb\" data-mobtk=\"1g5pu9tnr22na001\" href=\"/rc/clk?jk=916f8053921432cb&amp;fccid=3efe7294c2495fde&amp;vjs=3\" id=\"job_916f8053921432cb\" role=\"button\" target=\"_blank\"><span id=\"jobTitle-916f8053921432cb\" title=\"Senior Data Analyst (Fully Remote)\">Senior Data Analyst (Fully Remote)</span></a></h2>,\n",
      " <h2 class=\"jobTitle jobTitle-color-purple jobTitle-newJob\" tabindex=\"-1\"><div class=\"new topLeft holisticNewBlue desktop\"><span class=\"label\">new</span></div><a aria-label=\"full details of Encounter Data Analyst\" class=\"jcs-JobTitle\" data-hide-spinner=\"true\" data-hiring-event=\"false\" data-jk=\"abf5f45071c41212\" data-mobtk=\"1g5pu9tnr22na001\" href=\"/company/ATRIO-Health-Plans/jobs/Encounter-Data-Analyst-abf5f45071c41212?fccid=6ac6743a85a01839&amp;vjs=3\" id=\"job_abf5f45071c41212\" role=\"button\" target=\"_blank\"><span id=\"jobTitle-abf5f45071c41212\" title=\"Encounter Data Analyst\">Encounter Data Analyst</span></a></h2>,\n",
      " <h2 class=\"jobTitle jobTitle-color-purple jobTitle-newJob\" tabindex=\"-1\"><div class=\"new topLeft holisticNewBlue desktop\"><span class=\"label\">new</span></div><a aria-label=\"full details of Sr. Data Analyst\" class=\"jcs-JobTitle\" data-hide-spinner=\"true\" data-hiring-event=\"false\" data-jk=\"0707ee28b56a7ef8\" data-mobtk=\"1g5pu9tnr22na001\" href=\"/company/Gap-Inc.-Store-Support/jobs/Senior-Data-Analyst-0707ee28b56a7ef8?fccid=6912d2d61a67385e&amp;vjs=3\" id=\"job_0707ee28b56a7ef8\" role=\"button\" target=\"_blank\"><span id=\"jobTitle-0707ee28b56a7ef8\" title=\"Sr. Data Analyst\">Sr. Data Analyst</span></a></h2>,\n",
      " <h2 class=\"jobTitle jobTitle-color-purple jobTitle-newJob\" tabindex=\"-1\"><div class=\"new topLeft holisticNewBlue desktop\"><span class=\"label\">new</span></div><a aria-label=\"full details of Data Analyst (Fully Remote)\" class=\"jcs-JobTitle\" data-hide-spinner=\"true\" data-hiring-event=\"false\" data-jk=\"9e23cab9da02ff81\" data-mobtk=\"1g5pu9tnr22na001\" href=\"/rc/clk?jk=9e23cab9da02ff81&amp;fccid=3efe7294c2495fde&amp;vjs=3\" id=\"job_9e23cab9da02ff81\" role=\"button\" target=\"_blank\"><span id=\"jobTitle-9e23cab9da02ff81\" title=\"Data Analyst (Fully Remote)\">Data Analyst (Fully Remote)</span></a></h2>,\n",
      " <h2 class=\"jobTitle jobTitle-color-purple jobTitle-newJob\" tabindex=\"-1\"><div class=\"new topLeft holisticNewBlue desktop\"><span class=\"label\">new</span></div><a aria-label=\"full details of Provider Data Analyst I\" class=\"jcs-JobTitle\" data-hide-spinner=\"true\" data-hiring-event=\"false\" data-jk=\"f89cb315472f1c4f\" data-mobtk=\"1g5pu9tnr22na001\" href=\"/rc/clk?jk=f89cb315472f1c4f&amp;fccid=67346e7cd00890bf&amp;vjs=3\" id=\"job_f89cb315472f1c4f\" role=\"button\" target=\"_blank\"><span id=\"jobTitle-f89cb315472f1c4f\" title=\"Provider Data Analyst I\">Provider Data Analyst I</span></a></h2>,\n",
      " <h2 class=\"jobTitle jobTitle-color-purple jobTitle-newJob\" tabindex=\"-1\"><div class=\"new topLeft holisticNewBlue desktop\"><span class=\"label\">new</span></div><a aria-label=\"full details of Data Analyst\" class=\"jcs-JobTitle\" data-hide-spinner=\"true\" data-hiring-event=\"false\" data-jk=\"3f3b2e561f40ab5d\" data-mobtk=\"1g5pu9tnr22na001\" href=\"/rc/clk?jk=3f3b2e561f40ab5d&amp;fccid=1ba7f338730ce720&amp;vjs=3\" id=\"job_3f3b2e561f40ab5d\" role=\"button\" target=\"_blank\"><span id=\"jobTitle-3f3b2e561f40ab5d\" title=\"Data Analyst\">Data Analyst</span></a></h2>,\n",
      " <h2 class=\"jobTitle jobTitle-color-purple jobTitle-newJob\" tabindex=\"-1\"><div class=\"new topLeft holisticNewBlue desktop\"><span class=\"label\">new</span></div><a aria-label=\"full details of Background Investigation Security Analyst\" class=\"jcs-JobTitle\" data-hide-spinner=\"true\" data-hiring-event=\"false\" data-jk=\"f83dfd026b1b5f94\" data-mobtk=\"1g5pu9tnr22na001\" href=\"/rc/clk?jk=f83dfd026b1b5f94&amp;fccid=0a4b427bf4ae02c2&amp;vjs=3\" id=\"job_f83dfd026b1b5f94\" role=\"button\" target=\"_blank\"><span id=\"jobTitle-f83dfd026b1b5f94\" title=\"Background Investigation Security Analyst\">Background Investigation Security Analyst</span></a></h2>,\n",
      " <h2 class=\"jobTitle jobTitle-color-purple jobTitle-newJob\" tabindex=\"-1\"><div class=\"new topLeft holisticNewBlue desktop\"><span class=\"label\">new</span></div><a aria-label=\"full details of Healthcare Data Analyst\" class=\"jcs-JobTitle\" data-hide-spinner=\"true\" data-hiring-event=\"false\" data-jk=\"fdb0412cb8a103f8\" data-mobtk=\"1g5pu9tnr22na001\" href=\"/rc/clk?jk=fdb0412cb8a103f8&amp;fccid=fc68da685e8aa986&amp;vjs=3\" id=\"job_fdb0412cb8a103f8\" role=\"button\" target=\"_blank\"><span id=\"jobTitle-fdb0412cb8a103f8\" title=\"Healthcare Data Analyst\">Healthcare Data Analyst</span></a></h2>,\n",
      " <h2 class=\"jobTitle jobTitle-color-purple jobTitle-newJob\" tabindex=\"-1\"><div class=\"new topLeft holisticNewBlue desktop\"><span class=\"label\">new</span></div><a aria-label=\"full details of Data Analyst II\" class=\"jcs-JobTitle\" data-hide-spinner=\"true\" data-hiring-event=\"false\" data-jk=\"88152a104ca10388\" data-mobtk=\"1g5pu9tnr22na001\" href=\"/company/Favor-TechConsulting/jobs/Data-Analyst-88152a104ca10388?fccid=7318bc49f62ec709&amp;vjs=3\" id=\"job_88152a104ca10388\" role=\"button\" target=\"_blank\"><span id=\"jobTitle-88152a104ca10388\" title=\"Data Analyst II\">Data Analyst II</span></a></h2>,\n",
      " <h2 class=\"jobTitle jobTitle-color-purple jobTitle-newJob\" tabindex=\"-1\"><div class=\"new topLeft holisticNewBlue desktop\"><span class=\"label\">new</span></div><a aria-label=\"full details of Data Reporting Analyst\" class=\"jcs-JobTitle\" data-hide-spinner=\"true\" data-hiring-event=\"false\" data-jk=\"bd2e2c5c703215ec\" data-mobtk=\"1g5pu9tnr22na001\" href=\"/rc/clk?jk=bd2e2c5c703215ec&amp;fccid=c060d0df634ace82&amp;vjs=3\" id=\"job_bd2e2c5c703215ec\" role=\"button\" target=\"_blank\"><span id=\"jobTitle-bd2e2c5c703215ec\" title=\"Data Reporting Analyst\">Data Reporting Analyst</span></a></h2>,\n",
      " <h2 class=\"jobTitle jobTitle-color-purple jobTitle-newJob\" tabindex=\"-1\"><div class=\"new topLeft holisticNewBlue desktop\"><span class=\"label\">new</span></div><a aria-label=\"full details of Data Analyst – Remote\" class=\"jcs-JobTitle\" data-hide-spinner=\"true\" data-hiring-event=\"false\" data-jk=\"0799b0083a84f9db\" data-mobtk=\"1g5pu9tnr22na001\" href=\"/company/GenTech-Associates/jobs/Data-Analyst-Remote-0799b0083a84f9db?fccid=39879ca8bd0342f1&amp;vjs=3\" id=\"job_0799b0083a84f9db\" role=\"button\" target=\"_blank\"><span id=\"jobTitle-0799b0083a84f9db\" title=\"Data Analyst – Remote\">Data Analyst – Remote</span></a></h2>,\n",
      " <h2 class=\"jobTitle jobTitle-color-purple jobTitle-newJob\" tabindex=\"-1\"><div class=\"new topLeft holisticNewBlue desktop\"><span class=\"label\">new</span></div><a aria-label=\"full details of Data Modeler/Data Analyst\" class=\"jcs-JobTitle\" data-hide-spinner=\"true\" data-hiring-event=\"false\" data-jk=\"a568cdd89eabb78c\" data-mobtk=\"1g5pu9tnr22na001\" href=\"/company/Concept-Software-&amp;-Services/jobs/Data-Modeler-Data-Analyst-a568cdd89eabb78c?fccid=603410a2a4bd72ab&amp;vjs=3\" id=\"job_a568cdd89eabb78c\" role=\"button\" target=\"_blank\"><span id=\"jobTitle-a568cdd89eabb78c\" title=\"Data Modeler/Data Analyst\">Data Modeler/Data Analyst</span></a></h2>]\n"
     ]
    }
   ],
   "source": [
    "import pandas as pd\n",
    "import requests\n",
    "from bs4 import BeautifulSoup as bs\n",
    "from splinter import Browser\n",
    "from webdriver_manager.chrome import ChromeDriverManager\n",
    "from selenium import webdriver\n",
    "import selenium\n",
    "from selenium.webdriver.support.ui import WebDriverWait\n",
    "import os\n",
    "import urllib\n",
    "import pprint\n",
    "\n",
    "# def find_jobs(website, job_title, location, filename = 'results.xls'):\n",
    "    \n",
    "#     if website == 'Indeed':\n",
    "#         job_soup = load_indeed_jobs_div(job_title, location)\n",
    "#         jobs_list = extracted_info_indeed(job_soup)\n",
    "        \n",
    "#     # add other job boards\n",
    "    \n",
    "#     save_jobs(jobs_list, filename)\n",
    "    \n",
    "# def save_jobs(jobs_list, filename):\n",
    "#     jobs = pd.DataFrame(jobs_list)\n",
    "#     jobs.to_excel(filename)\n",
    "\n",
    "def load_indeed_jobs_div(job_title, location):\n",
    "    getVars = {'q': job_title, 'l': location, 'fromage': 'last', 'sort': 'date'}\n",
    "    url = ('https://www.indeed.com/jobs?' + urllib.parse.urlencode(getVars))\n",
    "    page = requests.get(url)\n",
    "    soup = bs(page.content, 'html.parser')\n",
    "    job_soup = soup.find(id = 'resultsCol')\n",
    "    job_elems = job_soup.find_all('h2', class_='jobTitle')\n",
    "    \n",
    "#     cols = []\n",
    "#     extracted_info = []\n",
    "    \n",
    "    \n",
    "\n",
    "#     if 'titles' in job_elems:\n",
    "#         titles = []\n",
    "#         cols.append('titles')\n",
    "#         for job_elem in job_elems:\n",
    "#             titles.append(job_title_indeed(job_elem))\n",
    "#         extracted_info.append(titles)\n",
    "        \n",
    "#     def job_title_indeed(job_elem):\n",
    "#         title_elem = job_elem.find('span', title_='title')\n",
    "#         title = title_elem.text.strip()\n",
    "#         return title\n",
    "    return job_elems\n",
    "\n",
    "pprint.pprint(load_indeed_jobs_div('data analyst', 'remote'))\n",
    "\n",
    "# def extracted_info_indeed(job_soup, desired_char):\n",
    "#     job_elems = job_soup.find_all('div', class_ = 'job_seen_beacon')\n",
    "    \n",
    "#     test_list = []\n",
    "    \n",
    "#     for x in job_elems:\n",
    "#         test_list.append(x)\n",
    "#     return test_list  \n"
   ]
  },
  {
   "cell_type": "code",
   "execution_count": 7,
   "id": "4f41eb24",
   "metadata": {},
   "outputs": [
    {
     "ename": "TypeError",
     "evalue": "extracted_info_indeed() missing 1 required positional argument: 'desired_char'",
     "output_type": "error",
     "traceback": [
      "\u001b[1;31m---------------------------------------------------------------------------\u001b[0m",
      "\u001b[1;31mTypeError\u001b[0m                                 Traceback (most recent call last)",
      "\u001b[1;32m~\\AppData\\Local\\Temp/ipykernel_12964/3698362359.py\u001b[0m in \u001b[0;36m<module>\u001b[1;34m\u001b[0m\n\u001b[0;32m      1\u001b[0m \u001b[1;31m# desired_char = ['titles', 'companies', 'links', 'date_listed']\u001b[0m\u001b[1;33m\u001b[0m\u001b[1;33m\u001b[0m\u001b[1;33m\u001b[0m\u001b[0m\n\u001b[0;32m      2\u001b[0m \u001b[1;33m\u001b[0m\u001b[0m\n\u001b[1;32m----> 3\u001b[1;33m \u001b[0mfind_jobs\u001b[0m\u001b[1;33m(\u001b[0m\u001b[1;34m'Indeed'\u001b[0m\u001b[1;33m,\u001b[0m \u001b[1;34m'data analyst'\u001b[0m\u001b[1;33m,\u001b[0m \u001b[1;34m'remote'\u001b[0m\u001b[1;33m)\u001b[0m\u001b[1;33m\u001b[0m\u001b[1;33m\u001b[0m\u001b[0m\n\u001b[0m\u001b[0;32m      4\u001b[0m \u001b[0mprint\u001b[0m\u001b[1;33m(\u001b[0m\u001b[0mjob_soup\u001b[0m\u001b[1;33m)\u001b[0m\u001b[1;33m\u001b[0m\u001b[1;33m\u001b[0m\u001b[0m\n",
      "\u001b[1;32m~\\AppData\\Local\\Temp/ipykernel_12964/3116980842.py\u001b[0m in \u001b[0;36mfind_jobs\u001b[1;34m(website, job_title, location, filename)\u001b[0m\n\u001b[0;32m     14\u001b[0m     \u001b[1;32mif\u001b[0m \u001b[0mwebsite\u001b[0m \u001b[1;33m==\u001b[0m \u001b[1;34m'Indeed'\u001b[0m\u001b[1;33m:\u001b[0m\u001b[1;33m\u001b[0m\u001b[1;33m\u001b[0m\u001b[0m\n\u001b[0;32m     15\u001b[0m         \u001b[0mjob_soup\u001b[0m \u001b[1;33m=\u001b[0m \u001b[0mload_indeed_jobs_div\u001b[0m\u001b[1;33m(\u001b[0m\u001b[0mjob_title\u001b[0m\u001b[1;33m,\u001b[0m \u001b[0mlocation\u001b[0m\u001b[1;33m)\u001b[0m\u001b[1;33m\u001b[0m\u001b[1;33m\u001b[0m\u001b[0m\n\u001b[1;32m---> 16\u001b[1;33m         \u001b[0mjobs_list\u001b[0m \u001b[1;33m=\u001b[0m \u001b[0mextracted_info_indeed\u001b[0m\u001b[1;33m(\u001b[0m\u001b[0mjob_soup\u001b[0m\u001b[1;33m)\u001b[0m\u001b[1;33m\u001b[0m\u001b[1;33m\u001b[0m\u001b[0m\n\u001b[0m\u001b[0;32m     17\u001b[0m \u001b[1;33m\u001b[0m\u001b[0m\n\u001b[0;32m     18\u001b[0m     \u001b[1;31m# add other job boards\u001b[0m\u001b[1;33m\u001b[0m\u001b[1;33m\u001b[0m\u001b[1;33m\u001b[0m\u001b[0m\n",
      "\u001b[1;31mTypeError\u001b[0m: extracted_info_indeed() missing 1 required positional argument: 'desired_char'"
     ]
    }
   ],
   "source": [
    "\n",
    "\n",
    "# desired_char = ['titles', 'companies', 'links', 'date_listed']\n",
    "\n",
    "find_jobs('Indeed', 'data analyst', 'remote')\n",
    "print(job_soup)"
   ]
  },
  {
   "cell_type": "code",
   "execution_count": null,
   "id": "64004526",
   "metadata": {},
   "outputs": [],
   "source": []
  }
 ],
 "metadata": {
  "kernelspec": {
   "display_name": "mlenv",
   "language": "python",
   "name": "mlenv"
  },
  "language_info": {
   "codemirror_mode": {
    "name": "ipython",
    "version": 3
   },
   "file_extension": ".py",
   "mimetype": "text/x-python",
   "name": "python",
   "nbconvert_exporter": "python",
   "pygments_lexer": "ipython3",
   "version": "3.7.11"
  }
 },
 "nbformat": 4,
 "nbformat_minor": 5
}
